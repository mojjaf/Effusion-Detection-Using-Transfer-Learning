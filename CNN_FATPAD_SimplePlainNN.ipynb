{
 "cells": [
  {
   "cell_type": "code",
   "execution_count": null,
   "metadata": {},
   "outputs": [],
   "source": [
    "\n",
    "import os, shutil\n",
    "import tensorflow.keras\n",
    "from tensorflow.keras import layers\n",
    "from tensorflow.keras import models\n",
    "from tensorflow.keras import optimizers\n",
    "from tensorflow.keras import regularizers\n",
    "from tensorflow.keras import initializers\n",
    "from tensorflow.keras import callbacks\n",
    "from tensorflow.keras import backend as K\n",
    "from tensorflow.keras.preprocessing.image import ImageDataGenerator\n",
    "from tensorflow.keras.preprocessing import image\n",
    "from tensorflow.keras.preprocessing.image import array_to_img\n",
    "\n",
    "import matplotlib.pyplot as plt\n",
    "import numpy as np\n",
    "import pandas as pd\n",
    "import pydicom\n",
    "from PIL import Image\n",
    "import cv2\n",
    "import shutil"
   ]
  },
  {
   "cell_type": "code",
   "execution_count": 6,
   "metadata": {},
   "outputs": [
    {
     "name": "stdout",
     "output_type": "stream",
     "text": [
      "Num GPUs Available:  1\n"
     ]
    },
    {
     "name": "stderr",
     "output_type": "stream",
     "text": [
      "C:\\Users\\Mojtaba Jafari Tadi\\AppData\\Roaming\\Python\\Python38\\site-packages\\tensorflow\\python\\client\\session.py:1751: UserWarning: An interactive session is already active. This can cause out-of-memory errors in some cases. You must explicitly call `InteractiveSession.close()` to release resources held by the other session(s).\n",
      "  warnings.warn('An interactive session is already active. This can '\n"
     ]
    }
   ],
   "source": [
    "from tensorflow.compat.v1 import ConfigProto\n",
    "from tensorflow.compat.v1 import InteractiveSession\n",
    "\n",
    "config = ConfigProto(allow_soft_placement=True)\n",
    "config.gpu_options.allow_growth = True\n",
    "session = InteractiveSession(config=config)\n",
    "print(\"Num GPUs Available: \", len(tensorflow.config.list_physical_devices('GPU')))\n"
   ]
  },
  {
   "cell_type": "code",
   "execution_count": 7,
   "metadata": {},
   "outputs": [
    {
     "data": {
      "text/plain": [
       "'C:\\\\Users\\\\Mojtaba Jafari Tadi\\\\Projects_AMK\\\\Radiology Project'"
      ]
     },
     "execution_count": 7,
     "metadata": {},
     "output_type": "execute_result"
    }
   ],
   "source": [
    "#get working directory\n",
    "os.getcwd()"
   ]
  },
  {
   "cell_type": "code",
   "execution_count": 8,
   "metadata": {},
   "outputs": [
    {
     "data": {
      "text/plain": [
       "['Binary_Classification_Split',\n",
       " 'data_DICOM',\n",
       " 'fatpad',\n",
       " 'reformatted_binary',\n",
       " 'reformatted_binary_unscaled',\n",
       " 'reformatted_data',\n",
       " 'reformatted_data_unscaled',\n",
       " 'xray_model.h5']"
      ]
     },
     "execution_count": 8,
     "metadata": {},
     "output_type": "execute_result"
    }
   ],
   "source": [
    "os.listdir()"
   ]
  },
  {
   "cell_type": "code",
   "execution_count": 9,
   "metadata": {},
   "outputs": [],
   "source": [
    "#change working directory to where the datasets are\n",
    "root_directory=os.chdir('C:/Users/Mojtaba Jafari Tadi/Projects_AMK/Radiology Project')"
   ]
  },
  {
   "cell_type": "code",
   "execution_count": 10,
   "metadata": {},
   "outputs": [
    {
     "name": "stdout",
     "output_type": "stream",
     "text": [
      "C:/Users/Mojtaba Jafari Tadi/Projects_AMK/Radiology Project/Binary_Classification_Split/train\n"
     ]
    }
   ],
   "source": [
    "#Provide train, validation, and test to tensorflow-keras ImageDataGenerator\n",
    "base_dir_train = 'C:/Users/Mojtaba Jafari Tadi/Projects_AMK/Radiology Project/Binary_Classification_Split/train'\n",
    "base_dir_validate = 'C:/Users/Mojtaba Jafari Tadi/Projects_AMK/Radiology Project/Binary_Classification_Split/validation'\n",
    "base_dir_test = 'C:/Users/Mojtaba Jafari Tadi/Projects_AMK/Radiology Project/Binary_Classification_Split/test'\n",
    "\n",
    "print(base_dir_train)"
   ]
  },
  {
   "cell_type": "code",
   "execution_count": 11,
   "metadata": {},
   "outputs": [
    {
     "name": "stdout",
     "output_type": "stream",
     "text": [
      "Found 3519 images belonging to 2 classes.\n",
      "Found 1005 images belonging to 2 classes.\n"
     ]
    }
   ],
   "source": [
    "#run tensorflow-keras ImageDataGenerator on the directory which contains train, validate and test\n",
    "\n",
    "# The validation data should not be augmented (just rescaled)\n",
    "\n",
    "train_datagen = ImageDataGenerator(rescale=1./255,\n",
    "                            samplewise_center=True, \n",
    "                              samplewise_std_normalization=True, \n",
    "                              horizontal_flip = True, \n",
    "                              vertical_flip = True, \n",
    "                              height_shift_range= 0.05, \n",
    "                              width_shift_range=0.1, \n",
    "                              rotation_range=15, \n",
    "                              shear_range = 0.1,\n",
    "                              fill_mode = 'nearest',\n",
    "                              zoom_range=0.1)\n",
    "\n",
    "\n",
    "test_datagen = ImageDataGenerator(rescale=1./255)\n",
    "\n",
    "train_generator = train_datagen.flow_from_directory(\n",
    "        base_dir_train,\n",
    "        color_mode='rgb',\n",
    "        target_size=(180, 180), \n",
    "        batch_size=9,\n",
    "        shuffle=True,\n",
    "        class_mode='binary')\n",
    "\n",
    "validation_generator = test_datagen.flow_from_directory(\n",
    "        base_dir_validate, \n",
    "        color_mode='rgb',\n",
    "        batch_size=9,\n",
    "        shuffle=True,\n",
    "        target_size=(180, 180), \n",
    "        class_mode='binary')"
   ]
  },
  {
   "cell_type": "code",
   "execution_count": 12,
   "metadata": {},
   "outputs": [],
   "source": [
    "import matplotlib.pyplot as plt\n",
    "\n",
    "\n",
    "def plot_hist(hist):\n",
    "    plt.plot(hist.history[\"accuracy\"])\n",
    "    plt.plot(hist.history[\"val_accuracy\"])\n",
    "    plt.title(\"model accuracy\")\n",
    "    plt.ylabel(\"accuracy\")\n",
    "    plt.xlabel(\"epoch\")\n",
    "    plt.legend([\"train\", \"validation\"], loc=\"upper left\")\n",
    "    plt.show()\n",
    "\n",
    "    "
   ]
  },
  {
   "cell_type": "code",
   "execution_count": 13,
   "metadata": {},
   "outputs": [
    {
     "data": {
      "text/plain": [
       "(180, 180, 3)"
      ]
     },
     "execution_count": 13,
     "metadata": {},
     "output_type": "execute_result"
    }
   ],
   "source": [
    "train_generator.image_shape\n",
    "##batch = train_generator.next()\n",
    "#image = batch[0].astype('float32')\n",
    "#image.shape\n",
    "#pyplot.imshow(image[8].reshape(180,180), cmap=pyplot.get_cmap('gray'))"
   ]
  },
  {
   "cell_type": "code",
   "execution_count": 14,
   "metadata": {},
   "outputs": [],
   "source": [
    "from matplotlib import pyplot\n",
    "gr=0\n",
    "if gr: \n",
    "    fig, axs = plt.subplots(3,3, figsize=(15, 15), facecolor='w', edgecolor='k')\n",
    "    axs = axs.ravel()\n",
    "    for i in range(9):\n",
    "        # define subplot\n",
    "        # generate batch of images\n",
    "        batch = train_generator.next()\n",
    "        # convert to unsigned integers for viewing\n",
    "        image = batch[0]\n",
    "        # plot raw pixel data\n",
    "        axs[i].imshow(image[i].reshape(180,180), cmap=pyplot.get_cmap('gray'))# show the figure\n"
   ]
  },
  {
   "cell_type": "code",
   "execution_count": 15,
   "metadata": {},
   "outputs": [
    {
     "name": "stdout",
     "output_type": "stream",
     "text": [
      "3519\n",
      "109\n",
      "31\n"
     ]
    }
   ],
   "source": [
    "#load the root model and load trained weights into it\n",
    "print(train_generator.n)\n",
    "steps_per_epoch = int(train_generator.n/32)\n",
    "print(steps_per_epoch)\n",
    "validation_steps=int(validation_generator.n/32)\n",
    "print(validation_steps)"
   ]
  },
  {
   "cell_type": "code",
   "execution_count": 16,
   "metadata": {},
   "outputs": [],
   "source": [
    "# should add smoothing to these plots\n",
    "def plot_history(h):\n",
    "    acc = h.history['acc']\n",
    "    val_acc = h.history['val_acc']\n",
    "    loss = h.history['loss']\n",
    "    val_loss = h.history['val_loss']\n",
    "\n",
    "    epochs = range(len(acc))\n",
    "\n",
    "    plt.plot(epochs, acc, 'bo', label='Training acc')\n",
    "    plt.plot(epochs, val_acc, 'b', label='Validation acc')\n",
    "    plt.title('Training and validation accuracy')\n",
    "    plt.legend()\n",
    "\n",
    "    plt.figure()\n",
    "\n",
    "    plt.plot(epochs, loss, 'bo', label='Training loss')\n",
    "    plt.plot(epochs, val_loss, 'b', label='Validation loss')\n",
    "    plt.title('Training and validation loss')\n",
    "    plt.legend()\n",
    "\n",
    "    plt.show()"
   ]
  },
  {
   "cell_type": "code",
   "execution_count": 18,
   "metadata": {},
   "outputs": [],
   "source": [
    "from tensorflow import keras\n",
    "from tensorflow.keras import layers\n",
    "from tensorflow.keras.layers.experimental import preprocessing\n",
    "\n",
    "\n",
    "def conv_block(filters, inputs):\n",
    "    x = layers.Conv2D(filters, 3, activation=\"relu\", padding=\"same\")(inputs)\n",
    "    x = layers.Conv2D(filters, 3, activation=\"relu\", padding=\"same\")(x)\n",
    "    x = layers.BatchNormalization()(x)\n",
    "    outputs = layers.MaxPool2D()(x)\n",
    "\n",
    "    return outputs\n",
    "\n",
    "\n",
    "def dense_block(units, dropout_rate, inputs):\n",
    "    x = layers.Dense(units, activation=\"relu\")(inputs)\n",
    "    x = layers.BatchNormalization()(x)\n",
    "    outputs = layers.Dropout(dropout_rate)(x)\n",
    "\n",
    "    return outputs"
   ]
  },
  {
   "cell_type": "code",
   "execution_count": 19,
   "metadata": {},
   "outputs": [],
   "source": [
    "def build_model(inputshape):\n",
    "    inputs = keras.Input(inputshape)\n",
    "    x = preprocessing.Rescaling(1.0 / 255)(inputs)\n",
    "    x = layers.Conv2D(16, 3, activation=\"relu\", padding=\"same\")(x)\n",
    "    x = layers.Conv2D(16, 3, activation=\"relu\", padding=\"same\")(x)\n",
    "    x = layers.MaxPool2D()(x)\n",
    "\n",
    "    x = conv_block(32, x)\n",
    "    x = conv_block(64, x)\n",
    "\n",
    "    x = conv_block(128, x)\n",
    "    x = layers.Dropout(0.2)(x)\n",
    "\n",
    "    x = conv_block(256, x)\n",
    "    x = layers.Dropout(0.2)(x)\n",
    "\n",
    "    x = layers.Flatten()(x)\n",
    "    x = dense_block(512, 0.7, x)\n",
    "    x = dense_block(128, 0.5, x)\n",
    "    x = dense_block(64, 0.3, x)\n",
    "\n",
    "    outputs = layers.Dense(1, activation=\"sigmoid\")(x)\n",
    "\n",
    "    model = keras.Model(inputs=inputs, outputs=outputs)\n",
    "    return model\n"
   ]
  },
  {
   "cell_type": "code",
   "execution_count": 20,
   "metadata": {},
   "outputs": [],
   "source": [
    "checkpoint_cb = tensorflow.keras.callbacks.ModelCheckpoint(\"xray_model.h5\", save_best_only=True)\n",
    "\n",
    "early_stopping_cb = tensorflow.keras.callbacks.EarlyStopping(\n",
    "    patience=10, restore_best_weights=True\n",
    ")"
   ]
  },
  {
   "cell_type": "code",
   "execution_count": 21,
   "metadata": {},
   "outputs": [],
   "source": [
    "initial_learning_rate = 0.015\n",
    "lr_schedule = tensorflow.keras.optimizers.schedules.ExponentialDecay(\n",
    "    initial_learning_rate, decay_steps=100000, decay_rate=0.96, staircase=True\n",
    ")"
   ]
  },
  {
   "cell_type": "code",
   "execution_count": 22,
   "metadata": {},
   "outputs": [
    {
     "name": "stdout",
     "output_type": "stream",
     "text": [
      "Model: \"functional_1\"\n",
      "_________________________________________________________________\n",
      "Layer (type)                 Output Shape              Param #   \n",
      "=================================================================\n",
      "input_1 (InputLayer)         [(None, 180, 180, 3)]     0         \n",
      "_________________________________________________________________\n",
      "rescaling (Rescaling)        (None, 180, 180, 3)       0         \n",
      "_________________________________________________________________\n",
      "conv2d (Conv2D)              (None, 180, 180, 16)      448       \n",
      "_________________________________________________________________\n",
      "conv2d_1 (Conv2D)            (None, 180, 180, 16)      2320      \n",
      "_________________________________________________________________\n",
      "max_pooling2d (MaxPooling2D) (None, 90, 90, 16)        0         \n",
      "_________________________________________________________________\n",
      "conv2d_2 (Conv2D)            (None, 90, 90, 32)        4640      \n",
      "_________________________________________________________________\n",
      "conv2d_3 (Conv2D)            (None, 90, 90, 32)        9248      \n",
      "_________________________________________________________________\n",
      "batch_normalization (BatchNo (None, 90, 90, 32)        128       \n",
      "_________________________________________________________________\n",
      "max_pooling2d_1 (MaxPooling2 (None, 45, 45, 32)        0         \n",
      "_________________________________________________________________\n",
      "conv2d_4 (Conv2D)            (None, 45, 45, 64)        18496     \n",
      "_________________________________________________________________\n",
      "conv2d_5 (Conv2D)            (None, 45, 45, 64)        36928     \n",
      "_________________________________________________________________\n",
      "batch_normalization_1 (Batch (None, 45, 45, 64)        256       \n",
      "_________________________________________________________________\n",
      "max_pooling2d_2 (MaxPooling2 (None, 22, 22, 64)        0         \n",
      "_________________________________________________________________\n",
      "conv2d_6 (Conv2D)            (None, 22, 22, 128)       73856     \n",
      "_________________________________________________________________\n",
      "conv2d_7 (Conv2D)            (None, 22, 22, 128)       147584    \n",
      "_________________________________________________________________\n",
      "batch_normalization_2 (Batch (None, 22, 22, 128)       512       \n",
      "_________________________________________________________________\n",
      "max_pooling2d_3 (MaxPooling2 (None, 11, 11, 128)       0         \n",
      "_________________________________________________________________\n",
      "dropout (Dropout)            (None, 11, 11, 128)       0         \n",
      "_________________________________________________________________\n",
      "conv2d_8 (Conv2D)            (None, 11, 11, 256)       295168    \n",
      "_________________________________________________________________\n",
      "conv2d_9 (Conv2D)            (None, 11, 11, 256)       590080    \n",
      "_________________________________________________________________\n",
      "batch_normalization_3 (Batch (None, 11, 11, 256)       1024      \n",
      "_________________________________________________________________\n",
      "max_pooling2d_4 (MaxPooling2 (None, 5, 5, 256)         0         \n",
      "_________________________________________________________________\n",
      "dropout_1 (Dropout)          (None, 5, 5, 256)         0         \n",
      "_________________________________________________________________\n",
      "flatten (Flatten)            (None, 6400)              0         \n",
      "_________________________________________________________________\n",
      "dense (Dense)                (None, 512)               3277312   \n",
      "_________________________________________________________________\n",
      "batch_normalization_4 (Batch (None, 512)               2048      \n",
      "_________________________________________________________________\n",
      "dropout_2 (Dropout)          (None, 512)               0         \n",
      "_________________________________________________________________\n",
      "dense_1 (Dense)              (None, 128)               65664     \n",
      "_________________________________________________________________\n",
      "batch_normalization_5 (Batch (None, 128)               512       \n",
      "_________________________________________________________________\n",
      "dropout_3 (Dropout)          (None, 128)               0         \n",
      "_________________________________________________________________\n",
      "dense_2 (Dense)              (None, 64)                8256      \n",
      "_________________________________________________________________\n",
      "batch_normalization_6 (Batch (None, 64)                256       \n",
      "_________________________________________________________________\n",
      "dropout_4 (Dropout)          (None, 64)                0         \n",
      "_________________________________________________________________\n",
      "dense_3 (Dense)              (None, 1)                 65        \n",
      "=================================================================\n",
      "Total params: 4,534,801\n",
      "Trainable params: 4,532,433\n",
      "Non-trainable params: 2,368\n",
      "_________________________________________________________________\n"
     ]
    }
   ],
   "source": [
    "model = build_model(inputshape=train_generator.image_shape)\n",
    "model.summary()\n"
   ]
  },
  {
   "cell_type": "code",
   "execution_count": 23,
   "metadata": {},
   "outputs": [
    {
     "data": {
      "text/plain": [
       "{'EF_cl0': 0, 'EF_cl1': 1}"
      ]
     },
     "execution_count": 23,
     "metadata": {},
     "output_type": "execute_result"
    }
   ],
   "source": [
    "train_generator.class_indices\n"
   ]
  },
  {
   "cell_type": "code",
   "execution_count": 26,
   "metadata": {},
   "outputs": [
    {
     "name": "stdout",
     "output_type": "stream",
     "text": [
      "Epoch 1/100\n",
      "109/109 [==============================] - 26s 241ms/step - loss: 0.7006 - binary_accuracy: 0.5148 - precision: 0.4713 - recall: 0.2668 - val_loss: 0.8579 - val_binary_accuracy: 0.4866 - val_precision: 0.4866 - val_recall: 1.0000\n",
      "Epoch 2/100\n",
      "109/109 [==============================] - 26s 238ms/step - loss: 0.6948 - binary_accuracy: 0.5250 - precision: 0.4984 - recall: 0.3269 - val_loss: 0.8006 - val_binary_accuracy: 0.4866 - val_precision: 0.4866 - val_recall: 1.0000\n",
      "Epoch 3/100\n",
      "109/109 [==============================] - 26s 235ms/step - loss: 0.7044 - binary_accuracy: 0.5005 - precision: 0.4841 - recall: 0.3828 - val_loss: 0.7241 - val_binary_accuracy: 0.4866 - val_precision: 0.4866 - val_recall: 1.0000\n",
      "Epoch 4/100\n",
      "109/109 [==============================] - 26s 238ms/step - loss: 0.7014 - binary_accuracy: 0.4893 - precision: 0.4587 - recall: 0.3165 - val_loss: 0.6945 - val_binary_accuracy: 0.5134 - val_precision: 0.0000e+00 - val_recall: 0.0000e+00\n",
      "Epoch 5/100\n",
      "109/109 [==============================] - 26s 242ms/step - loss: 0.6961 - binary_accuracy: 0.5280 - precision: 0.4885 - recall: 0.2314 - val_loss: 0.7192 - val_binary_accuracy: 0.5134 - val_precision: 0.0000e+00 - val_recall: 0.0000e+00\n",
      "Epoch 6/100\n",
      "109/109 [==============================] - 26s 238ms/step - loss: 0.6951 - binary_accuracy: 0.5178 - precision: 0.4667 - recall: 0.2610 - val_loss: 0.7222 - val_binary_accuracy: 0.5134 - val_precision: 0.0000e+00 - val_recall: 0.0000e+00\n",
      "Epoch 7/100\n",
      "109/109 [==============================] - 26s 241ms/step - loss: 0.7008 - binary_accuracy: 0.4883 - precision: 0.4511 - recall: 0.2213 - val_loss: 0.6938 - val_binary_accuracy: 0.4866 - val_precision: 0.4866 - val_recall: 1.0000\n",
      "Epoch 8/100\n",
      "109/109 [==============================] - 26s 238ms/step - loss: 0.6977 - binary_accuracy: 0.5066 - precision: 0.4745 - recall: 0.2569 - val_loss: 0.8705 - val_binary_accuracy: 0.4866 - val_precision: 0.4866 - val_recall: 1.0000\n",
      "Epoch 9/100\n",
      "109/109 [==============================] - 26s 240ms/step - loss: 0.6941 - binary_accuracy: 0.5586 - precision: 0.5412 - recall: 0.5424 - val_loss: 0.6937 - val_binary_accuracy: 0.4866 - val_precision: 0.4866 - val_recall: 1.0000\n",
      "Epoch 10/100\n",
      "109/109 [==============================] - 26s 235ms/step - loss: 0.6998 - binary_accuracy: 0.5117 - precision: 0.5052 - recall: 0.4058 - val_loss: 0.6934 - val_binary_accuracy: 0.4866 - val_precision: 0.4866 - val_recall: 1.0000\n",
      "Epoch 11/100\n",
      "109/109 [==============================] - 26s 237ms/step - loss: 0.6997 - binary_accuracy: 0.4893 - precision: 0.4727 - recall: 0.4361 - val_loss: 0.6937 - val_binary_accuracy: 0.5134 - val_precision: 0.0000e+00 - val_recall: 0.0000e+00\n",
      "Epoch 12/100\n",
      "109/109 [==============================] - 26s 239ms/step - loss: 0.6970 - binary_accuracy: 0.5015 - precision: 0.4926 - recall: 0.4834 - val_loss: 0.6928 - val_binary_accuracy: 0.5134 - val_precision: 0.0000e+00 - val_recall: 0.0000e+00\n",
      "Epoch 13/100\n",
      "109/109 [==============================] - 26s 239ms/step - loss: 0.6998 - binary_accuracy: 0.4893 - precision: 0.4486 - recall: 0.3077 - val_loss: 13.9212 - val_binary_accuracy: 0.4866 - val_precision: 0.4866 - val_recall: 1.0000\n",
      "Epoch 14/100\n",
      "109/109 [==============================] - 26s 239ms/step - loss: 0.6992 - binary_accuracy: 0.5076 - precision: 0.4893 - recall: 0.4325 - val_loss: 0.9770 - val_binary_accuracy: 0.4866 - val_precision: 0.4866 - val_recall: 1.0000\n",
      "Epoch 15/100\n",
      "109/109 [==============================] - 26s 239ms/step - loss: 0.6982 - binary_accuracy: 0.5138 - precision: 0.4720 - recall: 0.2928 - val_loss: 74.6181 - val_binary_accuracy: 0.4866 - val_precision: 0.4866 - val_recall: 1.0000\n",
      "Epoch 16/100\n",
      "109/109 [==============================] - 26s 237ms/step - loss: 0.6976 - binary_accuracy: 0.5189 - precision: 0.5145 - recall: 0.3672 - val_loss: 0.9130 - val_binary_accuracy: 0.4965 - val_precision: 0.4514 - val_recall: 0.1616\n",
      "Epoch 17/100\n",
      "109/109 [==============================] - 26s 240ms/step - loss: 0.7000 - binary_accuracy: 0.5168 - precision: 0.5034 - recall: 0.4612 - val_loss: 0.8080 - val_binary_accuracy: 0.4866 - val_precision: 0.4858 - val_recall: 0.9468\n",
      "Epoch 18/100\n",
      "109/109 [==============================] - 26s 240ms/step - loss: 0.6989 - binary_accuracy: 0.5168 - precision: 0.5106 - recall: 0.3983 - val_loss: 0.7058 - val_binary_accuracy: 0.4866 - val_precision: 0.4866 - val_recall: 1.0000\n",
      "Epoch 19/100\n",
      "109/109 [==============================] - 26s 238ms/step - loss: 0.6972 - binary_accuracy: 0.5117 - precision: 0.5046 - recall: 0.5661 - val_loss: 0.7046 - val_binary_accuracy: 0.5134 - val_precision: 0.0000e+00 - val_recall: 0.0000e+00\n",
      "Epoch 20/100\n",
      "109/109 [==============================] - 26s 240ms/step - loss: 0.6990 - binary_accuracy: 0.4771 - precision: 0.4677 - recall: 0.4186 - val_loss: 0.6957 - val_binary_accuracy: 0.5134 - val_precision: 0.0000e+00 - val_recall: 0.0000e+00\n",
      "Epoch 21/100\n",
      "109/109 [==============================] - 26s 237ms/step - loss: 0.6951 - binary_accuracy: 0.5076 - precision: 0.5025 - recall: 0.4103 - val_loss: 0.7043 - val_binary_accuracy: 0.5134 - val_precision: 0.0000e+00 - val_recall: 0.0000e+00\n",
      "Epoch 22/100\n",
      "109/109 [==============================] - 26s 237ms/step - loss: 0.6948 - binary_accuracy: 0.5280 - precision: 0.4925 - recall: 0.3581 - val_loss: 0.6928 - val_binary_accuracy: 0.5134 - val_precision: 0.0000e+00 - val_recall: 0.0000e+00\n"
     ]
    }
   ],
   "source": [
    "\n",
    "METRICS = [\n",
    "    tensorflow.keras.metrics.BinaryAccuracy(),\n",
    "    tensorflow.keras.metrics.Precision(name=\"precision\"),\n",
    "    tensorflow.keras.metrics.Recall(name=\"recall\"),\n",
    "]\n",
    "model.compile(\n",
    "    optimizer=tensorflow.keras.optimizers.Adam(learning_rate=lr_schedule),\n",
    "    loss=\"binary_crossentropy\",\n",
    "    metrics=METRICS,\n",
    ")\n",
    "\n",
    "\n",
    "history = model.fit(\n",
    "    train_generator,\n",
    "    steps_per_epoch=int(train_generator.n/32),\n",
    "    epochs=100,\n",
    "    validation_data=validation_generator,\n",
    "    validation_steps=int(validation_generator.n/32),\n",
    "    callbacks=[checkpoint_cb, early_stopping_cb])"
   ]
  },
  {
   "cell_type": "code",
   "execution_count": null,
   "metadata": {},
   "outputs": [],
   "source": [
    "test_loss, test_acc = model.evaluate_generator(test_generator, steps=20)\n",
    "test_acc"
   ]
  },
  {
   "cell_type": "code",
   "execution_count": null,
   "metadata": {},
   "outputs": [],
   "source": [
    "  "
   ]
  }
 ],
 "metadata": {
  "kernelspec": {
   "display_name": "Python 3",
   "language": "python",
   "name": "python3"
  },
  "language_info": {
   "codemirror_mode": {
    "name": "ipython",
    "version": 3
   },
   "file_extension": ".py",
   "mimetype": "text/x-python",
   "name": "python",
   "nbconvert_exporter": "python",
   "pygments_lexer": "ipython3",
   "version": "3.8.3"
  }
 },
 "nbformat": 4,
 "nbformat_minor": 5
}
