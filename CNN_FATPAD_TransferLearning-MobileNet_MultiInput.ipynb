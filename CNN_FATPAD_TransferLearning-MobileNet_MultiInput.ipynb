{
 "cells": [
  {
   "cell_type": "code",
   "execution_count": 94,
   "metadata": {},
   "outputs": [],
   "source": [
    "\n",
    "import os, shutil, sys\n",
    "import tensorflow.keras\n",
    "from tensorflow.keras import layers\n",
    "from tensorflow.keras import models\n",
    "from tensorflow.keras import optimizers\n",
    "from tensorflow.keras import regularizers\n",
    "from tensorflow.keras import initializers\n",
    "from tensorflow.keras import callbacks\n",
    "from tensorflow.keras import backend as K\n",
    "from tensorflow.keras.preprocessing.image import ImageDataGenerator\n",
    "from tensorflow.keras.preprocessing import image\n",
    "from tensorflow.keras.preprocessing.image import array_to_img\n",
    "from tensorflow.keras.applications.inception_v3 import preprocess_input\n",
    "from tensorflow.keras.utils import Sequence\n",
    "import matplotlib.pyplot as plt\n",
    "import numpy as np\n",
    "import pandas as pd\n",
    "import pydicom\n",
    "from PIL import Image\n",
    "import cv2\n",
    "import shutil\n",
    "from skimage import exposure"
   ]
  },
  {
   "cell_type": "code",
   "execution_count": 95,
   "metadata": {},
   "outputs": [
    {
     "name": "stderr",
     "output_type": "stream",
     "text": [
      "C:\\Users\\Mojtaba Jafari Tadi\\AppData\\Roaming\\Python\\Python38\\site-packages\\tensorflow\\python\\client\\session.py:1761: UserWarning: An interactive session is already active. This can cause out-of-memory errors in some cases. You must explicitly call `InteractiveSession.close()` to release resources held by the other session(s).\n",
      "  warnings.warn('An interactive session is already active. This can '\n"
     ]
    }
   ],
   "source": [
    "from tensorflow.compat.v1 import ConfigProto\n",
    "from tensorflow.compat.v1 import InteractiveSession\n",
    "\n",
    "config = ConfigProto()\n",
    "config.gpu_options.allow_growth = True\n",
    "session = InteractiveSession(config=config)"
   ]
  },
  {
   "cell_type": "code",
   "execution_count": 96,
   "metadata": {},
   "outputs": [
    {
     "data": {
      "text/plain": [
       "'C:\\\\Users\\\\Mojtaba Jafari Tadi\\\\Projects_AMK\\\\Radiology Project'"
      ]
     },
     "execution_count": 96,
     "metadata": {},
     "output_type": "execute_result"
    }
   ],
   "source": [
    "#get working directory\n",
    "os.getcwd()"
   ]
  },
  {
   "cell_type": "code",
   "execution_count": 97,
   "metadata": {},
   "outputs": [
    {
     "data": {
      "text/plain": [
       "['Binary_Classification_ClaheHistEqInvSplit',\n",
       " 'Binary_Classification_claheLBP',\n",
       " 'Binary_Classification_ClaheSplit',\n",
       " 'Binary_Classification_clhhisteqSplit',\n",
       " 'Binary_Classification_clh_EFvsnEFSplit',\n",
       " 'Binary_Classification_LateralSplit',\n",
       " 'Binary_Classification_LBP',\n",
       " 'Binary_Classification_newSplit',\n",
       " 'Binary_Classification_Split',\n",
       " 'checkpoint',\n",
       " 'checkpoints',\n",
       " 'checkpoints.data-00000-of-00001',\n",
       " 'checkpoints.index',\n",
       " 'data_DICOM',\n",
       " 'DenseNet_model_030321.h5',\n",
       " 'DenseNet_model_040321.h5',\n",
       " 'DenseNet_model_050321.h5',\n",
       " 'DenseNet_model_050321_auc.h5',\n",
       " 'DenseNet_model_060321_auc.h5',\n",
       " 'DenseNet_model_080321_acc.h5',\n",
       " 'fatpad',\n",
       " 'reformatted_binary',\n",
       " 'reformatted_binary_clahe',\n",
       " 'reformatted_binary_clahe_histeq',\n",
       " 'reformatted_binary_LBP',\n",
       " 'reformatted_binary_scaled',\n",
       " 'reformatted_binary_unscaled',\n",
       " 'reformatted_data',\n",
       " 'reformatted_data_clahe',\n",
       " 'reformatted_data_clahehisteqinv',\n",
       " 'reformatted_data_LBP',\n",
       " 'reformatted_data_unscaled',\n",
       " 'Results',\n",
       " 'xray_model.h5',\n",
       " 'xray_model_110321.h5',\n",
       " 'xray_model_110321_effv0.h5',\n",
       " 'xray_model_110321_MobileNetSE.h5',\n",
       " 'xray_model_110321_MobileNet_700e.h5',\n",
       " 'xray_model_110321_ResNet50.h5']"
      ]
     },
     "execution_count": 97,
     "metadata": {},
     "output_type": "execute_result"
    }
   ],
   "source": [
    "os.listdir()"
   ]
  },
  {
   "cell_type": "code",
   "execution_count": 98,
   "metadata": {},
   "outputs": [],
   "source": [
    "#change working directory to where the datasets are\n",
    "root_directory=os.chdir('C:/Users/Mojtaba Jafari Tadi/Projects_AMK/Radiology Project')"
   ]
  },
  {
   "cell_type": "code",
   "execution_count": 99,
   "metadata": {},
   "outputs": [],
   "source": [
    "#Provide train, validation, and test ONLY EFFUSION DATASET\n",
    "#base_dir_train = 'C:/Users/Mojtaba Jafari Tadi/Projects_AMK/Radiology Project/Binary_Classification_Split/train'\n",
    "#base_dir_validate = 'C:/Users/Mojtaba Jafari Tadi/Projects_AMK/Radiology Project/Binary_Classification_Split/validation'\n",
    "#base_dir_test = 'C:/Users/Mojtaba Jafari Tadi/Projects_AMK/Radiology Project/Binary_Classification_Split/test'\n",
    "\n",
    "#print(base_dir_train)"
   ]
  },
  {
   "cell_type": "code",
   "execution_count": 100,
   "metadata": {},
   "outputs": [
    {
     "name": "stdout",
     "output_type": "stream",
     "text": [
      "C:/Users/Mojtaba Jafari Tadi/Projects_AMK/Radiology Project/Binary_Classification_ClaheHistEqInvSplit/train\n"
     ]
    }
   ],
   "source": [
    "#Provide train, validation, and test EFFUSION + FRACTURE on LATERAL SIDE\n",
    "base_dir_train = 'C:/Users/Mojtaba Jafari Tadi/Projects_AMK/Radiology Project/Binary_Classification_ClaheHistEqInvSplit/train'\n",
    "base_dir_validate = 'C:/Users/Mojtaba Jafari Tadi/Projects_AMK/Radiology Project/Binary_Classification_ClaheHistEqInvSplit/validation'\n",
    "base_dir_test = 'C:/Users/Mojtaba Jafari Tadi/Projects_AMK/Radiology Project/Binary_Classification_ClaheHistEqInvSplit/test'\n",
    "\n",
    "print(base_dir_train)"
   ]
  },
  {
   "cell_type": "code",
   "execution_count": 101,
   "metadata": {},
   "outputs": [
    {
     "name": "stdout",
     "output_type": "stream",
     "text": [
      "C:/Users/Mojtaba Jafari Tadi/Projects_AMK/Radiology Project/Binary_Classification_ClaheHistEqInvSplit/train\n"
     ]
    }
   ],
   "source": [
    "#Provide train, validation, and test EFFUSION + FRACTURE on LATERAL SIDE\n",
    "base_dir_train_lbp = 'C:/Users/Mojtaba Jafari Tadi/Projects_AMK/Radiology Project/Binary_Classification_claheLBP/train'\n",
    "base_dir_validate_lbp = 'C:/Users/Mojtaba Jafari Tadi/Projects_AMK/Radiology Project/Binary_Classification_claheLBP/validation'\n",
    "base_dir_test_lbp = 'C:/Users/Mojtaba Jafari Tadi/Projects_AMK/Radiology Project/Binary_Classification_claheLBP/test'\n",
    "\n",
    "print(base_dir_train)"
   ]
  },
  {
   "cell_type": "code",
   "execution_count": 157,
   "metadata": {},
   "outputs": [
    {
     "name": "stdout",
     "output_type": "stream",
     "text": [
      "Found 3094 images belonging to 2 classes.\n",
      "Found 884 images belonging to 2 classes.\n",
      "Found 443 images belonging to 2 classes.\n"
     ]
    }
   ],
   "source": [
    "#run tensorflow-keras ImageDataGenerator on the directory which contains train, validate and test\n",
    "#train_datagen = ImageDataGenerator(\n",
    " #   rescale=1./255, # new parameter (maps pixel values to floats)\n",
    " #   rotation_range=40,\n",
    " #   width_shift_range=0.2,\n",
    "  ##  height_shift_range=0.2,\n",
    "  #  shear_range=0.2,\n",
    "  #  zoom_range=0.25,\n",
    "  #  horizontal_flip=True,\n",
    "  #  fill_mode='nearest') # Note: I added this, too\n",
    "\n",
    "#def gray_to_rgb(img):\n",
    " #   return np.repeat(img, 3, 2)\n",
    "\n",
    "IMAGE_WIDTH=224\n",
    "IMAGE_HEIGHT=224\n",
    "IMAGE_SIZE=(IMAGE_WIDTH, IMAGE_HEIGHT)\n",
    "IMAGE_CHANNELS=1\n",
    "IMAGE_SHAPE=(IMAGE_WIDTH, IMAGE_HEIGHT, IMAGE_CHANNELS)\n",
    "batch_size=16\n",
    "epochs = 500\n",
    "num_classes = 2\n",
    "\n",
    "train_datagen = ImageDataGenerator(rescale=1./255,samplewise_center=True, \n",
    "              samplewise_std_normalization=True, \n",
    "              horizontal_flip = True, \n",
    "              vertical_flip = False, \n",
    "              height_shift_range= 0.05, \n",
    "              width_shift_range=0.05, \n",
    "              rotation_range=35, \n",
    "              shear_range = 0.41,\n",
    "              fill_mode = 'nearest',\n",
    "              zoom_range=0.25)\n",
    "\n",
    "\n",
    "test_datagen = ImageDataGenerator(rescale=1./255)\n",
    "\n",
    "train_generator = train_datagen.flow_from_directory(\n",
    "        base_dir_train,\n",
    "       shuffle=True,\n",
    "    target_size=IMAGE_SIZE,\n",
    "    class_mode='categorical',\n",
    "    color_mode='rgb',\n",
    "    batch_size=batch_size)\n",
    "\n",
    "validation_generator = test_datagen.flow_from_directory(\n",
    "        base_dir_validate, \n",
    "       target_size=IMAGE_SIZE,\n",
    "    batch_size=batch_size,\n",
    "    class_mode=\"categorical\",\n",
    "    color_mode='rgb',\n",
    "    shuffle=True)\n",
    "\n",
    "test_generator = train_datagen.flow_from_directory(\n",
    "        base_dir_test,\n",
    "        target_size=IMAGE_SIZE,\n",
    "        batch_size=batch_size,\n",
    "        class_mode=\"categorical\",\n",
    "        color_mode='rgb',\n",
    "        shuffle=False)\n",
    "\n"
   ]
  },
  {
   "cell_type": "code",
   "execution_count": 158,
   "metadata": {},
   "outputs": [
    {
     "name": "stdout",
     "output_type": "stream",
     "text": [
      "Found 3094 images belonging to 2 classes.\n",
      "Found 884 images belonging to 2 classes.\n",
      "Found 443 images belonging to 2 classes.\n"
     ]
    }
   ],
   "source": [
    "#run tensorflow-keras ImageDataGenerator on the directory which contains train, validate and test\n",
    "#train_datagen = ImageDataGenerator(\n",
    " #   rescale=1./255, # new parameter (maps pixel values to floats)\n",
    " #   rotation_range=40,\n",
    " #   width_shift_range=0.2,\n",
    "  ##  height_shift_range=0.2,\n",
    "  #  shear_range=0.2,\n",
    "  #  zoom_range=0.25,\n",
    "  #  horizontal_flip=True,\n",
    "  #  fill_mode='nearest') # Note: I added this, too\n",
    "\n",
    "#def gray_to_rgb(img):\n",
    " #   return np.repeat(img, 3, 2)\n",
    "\n",
    "IMAGE_WIDTH=224\n",
    "IMAGE_HEIGHT=224\n",
    "IMAGE_SIZE=(IMAGE_WIDTH, IMAGE_HEIGHT)\n",
    "IMAGE_CHANNELS=1\n",
    "IMAGE_SHAPE=(IMAGE_WIDTH, IMAGE_HEIGHT, IMAGE_CHANNELS)\n",
    "batch_size=16\n",
    "epochs = 500\n",
    "num_classes = 2\n",
    "\n",
    "train_datagen = ImageDataGenerator(rescale=1./255,samplewise_center=True, \n",
    "              samplewise_std_normalization=True, \n",
    "              horizontal_flip = True, \n",
    "              vertical_flip = False, \n",
    "              height_shift_range= 0.05, \n",
    "              width_shift_range=0.05, \n",
    "              rotation_range=35, \n",
    "              shear_range = 0.41,\n",
    "              fill_mode = 'nearest',\n",
    "              zoom_range=0.25)\n",
    "\n",
    "\n",
    "test_datagen = ImageDataGenerator(rescale=1./255)\n",
    "\n",
    "train_generator_lbp = train_datagen.flow_from_directory(\n",
    "        base_dir_train_lbp,\n",
    "       shuffle=False,\n",
    "    target_size=IMAGE_SIZE,\n",
    "    class_mode='categorical',\n",
    "    color_mode='rgb',\n",
    "    batch_size=batch_size)\n",
    "\n",
    "validation_generator_lbp = test_datagen.flow_from_directory(\n",
    "        base_dir_validate_lbp, \n",
    "       target_size=IMAGE_SIZE,\n",
    "    batch_size=batch_size,\n",
    "    class_mode=\"categorical\",\n",
    "    color_mode='rgb',\n",
    "    shuffle=False)\n",
    "\n",
    "test_generator_lbp = train_datagen.flow_from_directory(\n",
    "        base_dir_test_lbp,\n",
    "        target_size=IMAGE_SIZE,\n",
    "        batch_size=batch_size,\n",
    "        class_mode=\"categorical\",\n",
    "        color_mode='rgb',\n",
    "        shuffle=False)\n",
    "\n"
   ]
  },
  {
   "cell_type": "code",
   "execution_count": 159,
   "metadata": {},
   "outputs": [],
   "source": [
    "import matplotlib.pyplot as plt\n",
    "\n",
    "\n",
    "def plot_hist(hist):\n",
    "    plt.plot(hist.history[\"accuracy\"])\n",
    "    plt.plot(hist.history[\"val_accuracy\"])\n",
    "    plt.title(\"model accuracy\")\n",
    "    plt.ylabel(\"accuracy\")\n",
    "    plt.xlabel(\"epoch\")\n",
    "    plt.legend([\"train\", \"validation\"], loc=\"upper left\")\n",
    "    plt.show()\n",
    "\n",
    "def plot_history(h):\n",
    "    acc = h.history['acc']\n",
    "    val_acc = h.history['val_acc']\n",
    "    loss = h.history['loss']\n",
    "    val_loss = h.history['val_loss']\n",
    "\n",
    "    epochs = range(len(acc))\n",
    "\n",
    "    plt.plot(epochs, acc, 'bo', label='Training acc')\n",
    "    plt.plot(epochs, val_acc, 'b', label='Validation acc')\n",
    "    plt.title('Training and validation accuracy')\n",
    "    plt.legend()\n",
    "\n",
    "    plt.figure()\n",
    "\n",
    "    plt.plot(epochs, loss, 'bo', label='Training loss')\n",
    "    plt.plot(epochs, val_loss, 'b', label='Validation loss')\n",
    "    plt.title('Training and validation loss')\n",
    "    plt.legend()\n",
    "\n",
    "    plt.show()\n",
    "    \n",
    "def summarize_diagnostics(history):\n",
    "    # plot loss\n",
    "    plt.subplot(411)\n",
    "    plt.title('Cross Entropy Loss')\n",
    "    plt.plot(history.history['loss'], color='blue', label='train')\n",
    "    plt.plot(history.history['val_loss'], color='orange', label='validation')\n",
    "    # plot accuracy\n",
    "    plt.subplot(412)\n",
    "    plt.title('Classification Accuracy')\n",
    "    plt.plot(history.history['binary_accuracy'], color='blue', label='train')\n",
    "    plt.plot(history.history['val_binary_accuracy'], color='orange', label='validation')\n",
    "    \n",
    "    plt.subplot(413)\n",
    "    plt.title('Classification Precision')\n",
    "    plt.plot(history.history['precision'], color='blue', label='train')\n",
    "    plt.plot(history.history['val_precision'], color='orange', label='validation')\n",
    "    \n",
    "    plt.subplot(414)\n",
    "    plt.title('Classification Recall')\n",
    "    plt.plot(history.history['recall'], color='blue', label='train')\n",
    "    plt.plot(history.history['val_recall'], color='orange', label='validation')\n",
    "    # save plot to file\n",
    "    plt.show()\n",
    "    filename = sys.argv[0].split('/')[-1]\n",
    "    plt.savefig(filename + '_plot.png')\n",
    "    #plt.close()\n"
   ]
  },
  {
   "cell_type": "code",
   "execution_count": 160,
   "metadata": {},
   "outputs": [
    {
     "data": {
      "text/plain": [
       "(224, 224, 3)"
      ]
     },
     "execution_count": 160,
     "metadata": {},
     "output_type": "execute_result"
    }
   ],
   "source": [
    "train_generator.image_shape\n"
   ]
  },
  {
   "cell_type": "code",
   "execution_count": 161,
   "metadata": {},
   "outputs": [],
   "source": [
    "from matplotlib import pyplot\n",
    "gr=0\n",
    "if gr: \n",
    "    fig, axs = plt.subplots(4,4, figsize=(15, 15), facecolor='w', edgecolor='k')\n",
    "    axs = axs.ravel()\n",
    "    for i in range(16):\n",
    "        # define subplot\n",
    "        # generate batch of images\n",
    "        batch = train_generator.next()\n",
    "        # convert to unsigned integers for viewing\n",
    "        image = batch[0]\n",
    "        # plot raw pixel data\n",
    "        axs[i].imshow(image[i].reshape(200,200), cmap=pyplot.get_cmap('gray'))# show the figure"
   ]
  },
  {
   "cell_type": "code",
   "execution_count": 162,
   "metadata": {},
   "outputs": [],
   "source": [
    "METRICS = [\n",
    "    tensorflow.keras.metrics.BinaryAccuracy(),\n",
    "    tensorflow.keras.metrics.Precision(name=\"precision\"),\n",
    "    tensorflow.keras.metrics.Recall(name=\"recall\"),\n",
    "]\n"
   ]
  },
  {
   "cell_type": "code",
   "execution_count": null,
   "metadata": {},
   "outputs": [],
   "source": []
  },
  {
   "cell_type": "code",
   "execution_count": 163,
   "metadata": {},
   "outputs": [],
   "source": [
    "initial_learning_rate = 1e-4\n",
    "lr_schedule = tensorflow.keras.optimizers.schedules.ExponentialDecay(\n",
    "    initial_learning_rate, decay_steps=100000, decay_rate=0.96, staircase=True\n",
    ")"
   ]
  },
  {
   "cell_type": "code",
   "execution_count": 172,
   "metadata": {},
   "outputs": [
    {
     "name": "stdout",
     "output_type": "stream",
     "text": [
      "Model: \"model_12\"\n",
      "__________________________________________________________________________________________________\n",
      "Layer (type)                    Output Shape         Param #     Connected to                     \n",
      "==================================================================================================\n",
      "input_60 (InputLayer)           [(None, 224, 224, 3) 0                                            \n",
      "__________________________________________________________________________________________________\n",
      "input_61 (InputLayer)           [(None, 224, 224, 3) 0                                            \n",
      "__________________________________________________________________________________________________\n",
      "add_22 (Add)                    (None, 224, 224, 3)  0           input_60[0][0]                   \n",
      "                                                                 input_61[0][0]                   \n",
      "__________________________________________________________________________________________________\n",
      "mobilenet_1.00_224 (Functional) (None, 7, 7, 1024)   3228864     add_22[0][0]                     \n",
      "__________________________________________________________________________________________________\n",
      "batch_normalization_17 (BatchNo (None, 7, 7, 1024)   4096        mobilenet_1.00_224[0][0]         \n",
      "__________________________________________________________________________________________________\n",
      "global_average_pooling2d_17 (Gl (None, 1024)         0           batch_normalization_17[0][0]     \n",
      "__________________________________________________________________________________________________\n",
      "flatten_13 (Flatten)            (None, 1024)         0           global_average_pooling2d_17[0][0]\n",
      "__________________________________________________________________________________________________\n",
      "dropout_35 (Dropout)            (None, 1024)         0           flatten_13[0][0]                 \n",
      "__________________________________________________________________________________________________\n",
      "dense_42 (Dense)                (None, 512)          524800      dropout_35[0][0]                 \n",
      "__________________________________________________________________________________________________\n",
      "dense_43 (Dense)                (None, 512)          262656      dense_42[0][0]                   \n",
      "__________________________________________________________________________________________________\n",
      "dropout_36 (Dropout)            (None, 512)          0           dense_43[0][0]                   \n",
      "__________________________________________________________________________________________________\n",
      "dense_44 (Dense)                (None, 256)          131328      dropout_36[0][0]                 \n",
      "__________________________________________________________________________________________________\n",
      "dropout_37 (Dropout)            (None, 256)          0           dense_44[0][0]                   \n",
      "__________________________________________________________________________________________________\n",
      "dense_45 (Dense)                (None, 2)            514         dropout_37[0][0]                 \n",
      "==================================================================================================\n",
      "Total params: 4,152,258\n",
      "Trainable params: 921,346\n",
      "Non-trainable params: 3,230,912\n",
      "__________________________________________________________________________________________________\n"
     ]
    }
   ],
   "source": [
    "import tensorflow as tf\n",
    "from tensorflow import keras\n",
    "assert tf.__version__ >= \"2.0\"\n",
    "#from tensorflow.keras.applications import InceptionV3\n",
    "from keras.applications import MobileNet,MobileNetV2\n",
    "def MobnetTF(img_inputs=(224, 224, 3)):\n",
    "    input_1 = keras.layers.Input(shape=img_inputs)\n",
    "    input_2 = keras.layers.Input(shape=img_inputs)\n",
    "    added = keras.layers.Concatenate(axis=-1)([input_1, input_2])\n",
    "    #img_inputs = keras.Input(shape=(224, 224, 3))\n",
    "    #merged_images = np.vstack([input_1, input_2])\n",
    "    #base_model = keras.applications.MobileNetV2(input_tensor=inputs,weights=\"imagenet\",  include_top=False)\n",
    "    base_model = keras.applications.MobileNet(input_tensor=None, weights=\"imagenet\",include_top=False)\n",
    "    #x=base_model(added,training = False)\n",
    "    for layer in base_model.layers:\n",
    "        layer.trainable = False\n",
    "    root_model = tensorflow.keras.Model(inputs=base_model.input, outputs=base_model.output)\n",
    "    #base_model.summary()\n",
    "    #model = models.Sequential()\n",
    "    #model.add(base_model)\n",
    "    #model.add(layers.BatchNormalization())\n",
    "    #model.add(layers.GlobalAvgPool2D())\n",
    "    #model.add(layers.Flatten())\n",
    "    #model.add(layers.Dropout(0.5))\n",
    "    #model.add(layers.Dense(128, activation=\"relu\"))\n",
    "    #model.add(layers.Dropout(0.5))\n",
    "    #model.add(layers.Dense(2, activation=\"softmax\", name=\"pred\"))\n",
    "\n",
    "    #x=squeeze_excite_block(base_model.output)\n",
    "    x=keras.layers.BatchNormalization()(root_model.output)\n",
    "    x=keras.layers.GlobalAvgPool2D()(x)\n",
    "    x=keras.layers.Flatten()(x)\n",
    "    x=keras.layers.Dropout(0.5)(x)\n",
    "    x=keras.layers.Dense(512, activation='relu')(x)\n",
    "    x=keras.layers.Dense(512, activation='relu')(x)\n",
    "    x=keras.layers.Dropout(0.5)(x)\n",
    "    x=keras.layers.Dense(256, activation='relu')(x)\n",
    "    x=keras.layers.Dropout(0.5)(x)\n",
    "\n",
    "    output = keras.layers.Dense(2, activation=\"softmax\")(x)\n",
    "    model = keras.models.Model(inputs=[input_1, input_2], outputs=output)\n",
    "\n",
    "   \n",
    "    #for layer in base_model.layers[:150]:\n",
    "    #    layer.trainable = False\n",
    "    #for layer in base_model.layers[150:]:\n",
    "    #    layer.trainable = True\n",
    "\n",
    "    #optimizer = keras.optimizers.RMSprop(lr=0.001)\n",
    "    optimizer = keras.optimizers.Adam(learning_rate=1e-4)\n",
    "\n",
    "    model.compile(loss=\"categorical_crossentropy\", optimizer=optimizer,\n",
    "                  metrics=METRICS)\n",
    "    return model\n",
    "model.summary()"
   ]
  },
  {
   "cell_type": "code",
   "execution_count": 173,
   "metadata": {},
   "outputs": [],
   "source": [
    "checkpoint_cb = tensorflow.keras.callbacks.ModelCheckpoint(\"xray_model_110321_MobileNetV2.h5\", save_best_only=True)\n",
    "\n",
    "early_stopping_cb = tensorflow.keras.callbacks.EarlyStopping(\n",
    "    patience=50, restore_best_weights=True\n",
    ")"
   ]
  },
  {
   "cell_type": "code",
   "execution_count": 174,
   "metadata": {},
   "outputs": [],
   "source": [
    "STEP_SIZE_TRAIN=train_generator.n//train_generator.batch_size\n",
    "STEP_SIZE_VALID=validation_generator.n//validation_generator.batch_size"
   ]
  },
  {
   "cell_type": "code",
   "execution_count": 171,
   "metadata": {},
   "outputs": [
    {
     "ename": "ValueError",
     "evalue": "Failed to find data adapter that can handle input: (<class 'list'> containing values of types {\"<class 'tensorflow.python.keras.preprocessing.image.DirectoryIterator'>\"}), <class 'NoneType'>",
     "output_type": "error",
     "traceback": [
      "\u001b[1;31m---------------------------------------------------------------------------\u001b[0m",
      "\u001b[1;31mValueError\u001b[0m                                Traceback (most recent call last)",
      "\u001b[1;32m<ipython-input-171-9d8822cd9d03>\u001b[0m in \u001b[0;36m<module>\u001b[1;34m\u001b[0m\n\u001b[0;32m      1\u001b[0m \u001b[0mbatch_size\u001b[0m\u001b[1;33m=\u001b[0m\u001b[1;36m32\u001b[0m\u001b[1;33m\u001b[0m\u001b[1;33m\u001b[0m\u001b[0m\n\u001b[1;32m----> 2\u001b[1;33m hist = model.fit([train_generator,train_generator_lbp],\n\u001b[0m\u001b[0;32m      3\u001b[0m       \u001b[0mepochs\u001b[0m\u001b[1;33m=\u001b[0m\u001b[1;36m700\u001b[0m\u001b[1;33m,\u001b[0m\u001b[1;33m\u001b[0m\u001b[1;33m\u001b[0m\u001b[0m\n\u001b[0;32m      4\u001b[0m     \u001b[0msteps_per_epoch\u001b[0m\u001b[1;33m=\u001b[0m\u001b[0mSTEP_SIZE_TRAIN\u001b[0m\u001b[1;33m,\u001b[0m\u001b[1;33m\u001b[0m\u001b[1;33m\u001b[0m\u001b[0m\n\u001b[0;32m      5\u001b[0m       \u001b[0mvalidation_data\u001b[0m\u001b[1;33m=\u001b[0m\u001b[1;33m[\u001b[0m\u001b[0mvalidation_generator\u001b[0m\u001b[1;33m,\u001b[0m\u001b[0mvalidation_generator_lbp\u001b[0m\u001b[1;33m]\u001b[0m\u001b[1;33m,\u001b[0m\u001b[1;33m\u001b[0m\u001b[1;33m\u001b[0m\u001b[0m\n",
      "\u001b[1;32m~\\AppData\\Roaming\\Python\\Python38\\site-packages\\tensorflow\\python\\keras\\engine\\training.py\u001b[0m in \u001b[0;36mfit\u001b[1;34m(self, x, y, batch_size, epochs, verbose, callbacks, validation_split, validation_data, shuffle, class_weight, sample_weight, initial_epoch, steps_per_epoch, validation_steps, validation_batch_size, validation_freq, max_queue_size, workers, use_multiprocessing)\u001b[0m\n\u001b[0;32m   1048\u001b[0m          \u001b[0mtraining_utils\u001b[0m\u001b[1;33m.\u001b[0m\u001b[0mRespectCompiledTrainableState\u001b[0m\u001b[1;33m(\u001b[0m\u001b[0mself\u001b[0m\u001b[1;33m)\u001b[0m\u001b[1;33m:\u001b[0m\u001b[1;33m\u001b[0m\u001b[1;33m\u001b[0m\u001b[0m\n\u001b[0;32m   1049\u001b[0m       \u001b[1;31m# Creates a `tf.data.Dataset` and handles batch and epoch iteration.\u001b[0m\u001b[1;33m\u001b[0m\u001b[1;33m\u001b[0m\u001b[1;33m\u001b[0m\u001b[0m\n\u001b[1;32m-> 1050\u001b[1;33m       data_handler = data_adapter.DataHandler(\n\u001b[0m\u001b[0;32m   1051\u001b[0m           \u001b[0mx\u001b[0m\u001b[1;33m=\u001b[0m\u001b[0mx\u001b[0m\u001b[1;33m,\u001b[0m\u001b[1;33m\u001b[0m\u001b[1;33m\u001b[0m\u001b[0m\n\u001b[0;32m   1052\u001b[0m           \u001b[0my\u001b[0m\u001b[1;33m=\u001b[0m\u001b[0my\u001b[0m\u001b[1;33m,\u001b[0m\u001b[1;33m\u001b[0m\u001b[1;33m\u001b[0m\u001b[0m\n",
      "\u001b[1;32m~\\AppData\\Roaming\\Python\\Python38\\site-packages\\tensorflow\\python\\keras\\engine\\data_adapter.py\u001b[0m in \u001b[0;36m__init__\u001b[1;34m(self, x, y, sample_weight, batch_size, steps_per_epoch, initial_epoch, epochs, shuffle, class_weight, max_queue_size, workers, use_multiprocessing, model, steps_per_execution)\u001b[0m\n\u001b[0;32m   1097\u001b[0m       \u001b[0mself\u001b[0m\u001b[1;33m.\u001b[0m\u001b[0m_steps_per_execution_value\u001b[0m \u001b[1;33m=\u001b[0m \u001b[0msteps_per_execution\u001b[0m\u001b[1;33m.\u001b[0m\u001b[0mnumpy\u001b[0m\u001b[1;33m(\u001b[0m\u001b[1;33m)\u001b[0m\u001b[1;33m.\u001b[0m\u001b[0mitem\u001b[0m\u001b[1;33m(\u001b[0m\u001b[1;33m)\u001b[0m\u001b[1;33m\u001b[0m\u001b[1;33m\u001b[0m\u001b[0m\n\u001b[0;32m   1098\u001b[0m \u001b[1;33m\u001b[0m\u001b[0m\n\u001b[1;32m-> 1099\u001b[1;33m     \u001b[0madapter_cls\u001b[0m \u001b[1;33m=\u001b[0m \u001b[0mselect_data_adapter\u001b[0m\u001b[1;33m(\u001b[0m\u001b[0mx\u001b[0m\u001b[1;33m,\u001b[0m \u001b[0my\u001b[0m\u001b[1;33m)\u001b[0m\u001b[1;33m\u001b[0m\u001b[1;33m\u001b[0m\u001b[0m\n\u001b[0m\u001b[0;32m   1100\u001b[0m     self._adapter = adapter_cls(\n\u001b[0;32m   1101\u001b[0m         \u001b[0mx\u001b[0m\u001b[1;33m,\u001b[0m\u001b[1;33m\u001b[0m\u001b[1;33m\u001b[0m\u001b[0m\n",
      "\u001b[1;32m~\\AppData\\Roaming\\Python\\Python38\\site-packages\\tensorflow\\python\\keras\\engine\\data_adapter.py\u001b[0m in \u001b[0;36mselect_data_adapter\u001b[1;34m(x, y)\u001b[0m\n\u001b[0;32m    959\u001b[0m   \u001b[1;32mif\u001b[0m \u001b[1;32mnot\u001b[0m \u001b[0madapter_cls\u001b[0m\u001b[1;33m:\u001b[0m\u001b[1;33m\u001b[0m\u001b[1;33m\u001b[0m\u001b[0m\n\u001b[0;32m    960\u001b[0m     \u001b[1;31m# TODO(scottzhu): This should be a less implementation-specific error.\u001b[0m\u001b[1;33m\u001b[0m\u001b[1;33m\u001b[0m\u001b[1;33m\u001b[0m\u001b[0m\n\u001b[1;32m--> 961\u001b[1;33m     raise ValueError(\n\u001b[0m\u001b[0;32m    962\u001b[0m         \u001b[1;34m\"Failed to find data adapter that can handle \"\u001b[0m\u001b[1;33m\u001b[0m\u001b[1;33m\u001b[0m\u001b[0m\n\u001b[0;32m    963\u001b[0m         \"input: {}, {}\".format(\n",
      "\u001b[1;31mValueError\u001b[0m: Failed to find data adapter that can handle input: (<class 'list'> containing values of types {\"<class 'tensorflow.python.keras.preprocessing.image.DirectoryIterator'>\"}), <class 'NoneType'>"
     ]
    }
   ],
   "source": [
    "batch_size=32\n",
    "hist = model.fit([train_generator,train_generator_lbp],\n",
    "      epochs=700,\n",
    "    steps_per_epoch=STEP_SIZE_TRAIN,\n",
    "      validation_data=[validation_generator,validation_generator_lbp],\n",
    "     validation_steps=STEP_SIZE_VALID,\n",
    "      verbose=1,callbacks=[checkpoint_cb])\n",
    "\n",
    "\n"
   ]
  },
  {
   "cell_type": "code",
   "execution_count": 106,
   "metadata": {},
   "outputs": [
    {
     "data": {
      "image/png": "[encoded data removed]",
      "text/plain": [
       "<Figure size 432x288 with 4 Axes>"
      ]
     },
     "metadata": {
      "needs_background": "light"
     },
     "output_type": "display_data"
    },
    {
     "data": {
      "text/plain": [
       "<Figure size 432x288 with 0 Axes>"
      ]
     },
     "metadata": {},
     "output_type": "display_data"
    }
   ],
   "source": [
    "#plot_hist(hist)\n",
    "summarize_diagnostics(hist)"
   ]
  },
  {
   "cell_type": "code",
   "execution_count": 119,
   "metadata": {},
   "outputs": [
    {
     "name": "stdout",
     "output_type": "stream",
     "text": [
      "38/38 [==============================] - 8s 202ms/step - loss: 0.5214 - binary_accuracy: 0.7651 - precision: 0.7651 - recall: 0.7651\n"
     ]
    },
    {
     "data": {
      "text/plain": [
       "0.7651006579399109"
      ]
     },
     "execution_count": 119,
     "metadata": {},
     "output_type": "execute_result"
    }
   ],
   "source": [
    "test_loss, test_acc, precision,recall = model.evaluate(test_generator)\n",
    "test_acc"
   ]
  },
  {
   "cell_type": "code",
   "execution_count": 120,
   "metadata": {},
   "outputs": [
    {
     "name": "stdout",
     "output_type": "stream",
     "text": [
      "38/38 [==============================] - 8s 201ms/step\n",
      "[0 0 0 0 0 0 1 0 0 0 0 0 0 0 0 0 0 0 0 0 0 0 0 0 0 0 0 0 0 0 0 0 0 0 0 0 1\n",
      " 0 0 0 0 0 0 0 0 0 0 1 0 0 0 0 0 0 0 0 0 0 0 0 0 1 1 1 0 0 0 0 0 1 0 0 0 0\n",
      " 0 0 0 0 0 0 0 0 0 0 0 0 0 0 0 0 0 0 0 0 1 0 0 1 0 0 0 1 0 0 0 0 0 0 0 0 0\n",
      " 0 0 0 0 0 0 0 1 1 0 0 0 0 0 0 0 0 0 1 0 0 0 0 0 1 0 1 0 0 0 0 0 0 0 0 0 0\n",
      " 0 0 0 0 1 1 0 0 0 0 0 0 0 1 0 0 0 0 0 0 0 0 0 0 0 0 0 0 0 0 0 0 0 0 0 0 0\n",
      " 0 0 1 1 1 1 0 0 0 0 0 0 0 0 0 0 0 0 0 0 0 0 0 0 0 0 0 0 0 1 0 0 0 0 0 0 0\n",
      " 0 0 0 0 0 0 0 0 0 0 0 0 0 0 0 0 0 0 0 0 1 1 0 0 0 0 0 1 0 0 0 1 0 0 0 0 0\n",
      " 0 0 0 0 0 1 1 0 1 0 0 0 0 0 0 0 1 1 0 0 0 0 0 1 0 0 0 0 0 0 0 0 0 1 0 0 0\n",
      " 0 1 0 1 1 0 1 1 0 0 0 1 0 1 1 1 0 0 0 0 0 0 0 0 0 0 0 0 0 0 0 0 1 0 0 0 0\n",
      " 0 0 0 0 0 0 1 0 1 1 1 1 1 1 1 1 1 1 1 1 1 0 1 1 1 1 1 0 0 0 1 1 1 1 1 1 1\n",
      " 1 1 1 1 1 1 0 0 0 0 1 1 0 1 1 0 1 1 0 0 1 0 1 0 1 1 1 1 1 0 1 1 1 1 1 1 1\n",
      " 0 1 1 1 1 1 0 0 0 1 0 0 0 0 0 0 1 1 1 0 0 1 1 0 0 1 0 1 1 1 1 0 0 0 0 1 1\n",
      " 1 1 0 1 1 1 1 0 1 0 1 1 1 0 1 1 1 1 0 1 1 0 1 1 1 0 1 1 1 1 1 0 0 0 0 0 1\n",
      " 1 0 1 1 1 0 0 0 1 1 1 1 0 0 0 0 0 1 1 1 1 1 1 0 0 1 1 0 1 1 1 1 0 0 0 0 0\n",
      " 0 0 0 1 1 1 1 0 1 1 1 0 0 0 0 0 0 0 1 1 0 0 1 1 1 1 0 1 0 0 0 1 1 1 0 1 1\n",
      " 1 1 1 1 1 1 1 1 1 1 0 0 0 0 1 1 1 1 1 1 1 1 1 1 0 1 1 1 1 1 1 1 1 1 0 0 1\n",
      " 1 1 1 1]\n",
      "['EF_cl0', 'EF_cl1']\n",
      "              precision    recall  f1-score   support\n",
      "\n",
      "      EF_cl0       0.77      0.87      0.81       340\n",
      "      EF_cl1       0.79      0.65      0.71       256\n",
      "\n",
      "    accuracy                           0.78       596\n",
      "   macro avg       0.78      0.76      0.76       596\n",
      "weighted avg       0.78      0.78      0.77       596\n",
      "\n"
     ]
    }
   ],
   "source": [
    "from sklearn.metrics import classification_report, confusion_matrix\n",
    "from keras import metrics\n",
    "Y_pred = model.predict(test_generator, verbose=1)\n",
    "y_pred = np.argmax(Y_pred, axis=1)\n",
    "print(y_pred)\n",
    "class_labels = list(test_generator.class_indices.keys())   \n",
    "print(class_labels)\n",
    "true_classes = test_generator.classes\n",
    "\n",
    "report = classification_report(true_classes, y_pred, target_names=class_labels)\n",
    "print(report) "
   ]
  },
  {
   "cell_type": "code",
   "execution_count": 121,
   "metadata": {},
   "outputs": [
    {
     "name": "stdout",
     "output_type": "stream",
     "text": [
      "Confusion Matrix\n",
      "[[295  45]\n",
      " [ 89 167]]\n",
      "Classification Report\n",
      "              precision    recall  f1-score   support\n",
      "\n",
      "      Normal       0.77      0.87      0.81       340\n",
      "    Abnormal       0.79      0.65      0.71       256\n",
      "\n",
      "    accuracy                           0.78       596\n",
      "   macro avg       0.78      0.76      0.76       596\n",
      "weighted avg       0.78      0.78      0.77       596\n",
      "\n"
     ]
    }
   ],
   "source": [
    "print('Confusion Matrix')\n",
    "print(confusion_matrix(test_generator.classes, y_pred))\n",
    "print('Classification Report')\n",
    "target_names = ['Normal', 'Abnormal']\n",
    "print(classification_report(test_generator.classes, y_pred, target_names=target_names))"
   ]
  },
  {
   "cell_type": "code",
   "execution_count": 122,
   "metadata": {},
   "outputs": [
    {
     "name": "stderr",
     "output_type": "stream",
     "text": [
      "C:\\Users\\Mojtaba Jafari Tadi\\AppData\\Roaming\\Python\\Python38\\site-packages\\tensorflow\\python\\keras\\engine\\sequential.py:425: UserWarning: `model.predict_proba()` is deprecated and will be removed after 2021-01-01. Please use `model.predict()` instead.\n",
      "  warnings.warn('`model.predict_proba()` is deprecated and '\n"
     ]
    }
   ],
   "source": [
    "keras.metrics.binary_accuracy(test_generator.classes, y_pred)\n",
    "y_predprob=model.predict_proba(test_generator)"
   ]
  },
  {
   "cell_type": "code",
   "execution_count": 123,
   "metadata": {},
   "outputs": [
    {
     "name": "stdout",
     "output_type": "stream",
     "text": [
      "[[0.68270683 0.31729317]\n",
      " [0.81988937 0.1801106 ]\n",
      " [0.89540654 0.10459347]\n",
      " ...\n",
      " [0.0275363  0.9724637 ]\n",
      " [0.11006532 0.88993466]\n",
      " [0.24506798 0.754932  ]]\n"
     ]
    }
   ],
   "source": [
    "print(y_predprob)"
   ]
  },
  {
   "cell_type": "code",
   "execution_count": 124,
   "metadata": {},
   "outputs": [
    {
     "data": {
      "image/png": "[encoded data removed]",
      "text/plain": [
       "<Figure size 432x288 with 1 Axes>"
      ]
     },
     "metadata": {
      "needs_background": "light"
     },
     "output_type": "display_data"
    },
    {
     "data": {
      "image/png": "[encoded data removed]",
      "text/plain": [
       "<Figure size 432x288 with 1 Axes>"
      ]
     },
     "metadata": {
      "needs_background": "light"
     },
     "output_type": "display_data"
    }
   ],
   "source": [
    "from sklearn.metrics import auc\n",
    "from sklearn.metrics import roc_curve\n",
    "\n",
    "fpr_keras, tpr_keras, thresholds_keras = roc_curve(test_generator.classes, y_predprob.argmax(axis=1))\n",
    "\n",
    "auc_keras = auc(fpr_keras, tpr_keras)\n",
    "\n",
    "plt.figure(1)\n",
    "plt.plot([0, 1], [0, 1], 'k--')\n",
    "plt.plot(fpr_keras, tpr_keras, label='Keras (area = {:.3f})'.format(auc_keras))\n",
    "plt.xlabel('False positive rate')\n",
    "plt.ylabel('True positive rate')\n",
    "plt.title('ROC curve')\n",
    "plt.legend(loc='best')\n",
    "plt.show()\n",
    "# Zoom in view of the upper left corner.\n",
    "plt.figure(2)\n",
    "plt.xlim(0, 0.4)\n",
    "plt.ylim(0.6, 1)\n",
    "plt.plot([0, 1], [0, 1], 'k--')\n",
    "plt.plot(fpr_keras, tpr_keras, label='Keras (area = {:.3f})'.format(auc_keras))\n",
    "plt.xlabel('False positive rate')\n",
    "plt.ylabel('True positive rate')\n",
    "plt.title('ROC curve (zoomed in at top left)')\n",
    "plt.legend(loc='best')\n",
    "plt.show()\n"
   ]
  },
  {
   "cell_type": "code",
   "execution_count": null,
   "metadata": {},
   "outputs": [],
   "source": []
  }
 ],
 "metadata": {
  "kernelspec": {
   "display_name": "Python 3",
   "language": "python",
   "name": "python3"
  },
  "language_info": {
   "codemirror_mode": {
    "name": "ipython",
    "version": 3
   },
   "file_extension": ".py",
   "mimetype": "text/x-python",
   "name": "python",
   "nbconvert_exporter": "python",
   "pygments_lexer": "ipython3",
   "version": "3.8.3"
  }
 },
 "nbformat": 4,
 "nbformat_minor": 5
}
